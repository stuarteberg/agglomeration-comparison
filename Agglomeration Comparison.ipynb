{
 "cells": [
  {
   "cell_type": "code",
   "execution_count": 60,
   "metadata": {},
   "outputs": [],
   "source": [
    "%load_ext autoreload\n",
    "%autoreload 2"
   ]
  },
  {
   "cell_type": "code",
   "execution_count": 11,
   "metadata": {},
   "outputs": [],
   "source": [
    "from tqdm import tqdm, tqdm_notebook\n",
    "import numpy as np\n",
    "import pandas as pd\n",
    "import h5py\n",
    "from dvidutils import LabelMapper\n",
    "from DVIDSparkServices.io_util.labelmap_utils import compare_mappings, mapping_from_edges"
   ]
  },
  {
   "cell_type": "code",
   "execution_count": 30,
   "metadata": {},
   "outputs": [
    {
     "name": "stdout",
     "output_type": "stream",
     "text": [
      "/nrs/flyem/bergs/final-agglo-fixsplit\r\n"
     ]
    }
   ],
   "source": [
    "!pwd"
   ]
  },
  {
   "cell_type": "code",
   "execution_count": 31,
   "metadata": {},
   "outputs": [],
   "source": [
    "#ls"
   ]
  },
  {
   "cell_type": "markdown",
   "metadata": {},
   "source": [
    "### Supervoxel sizes"
   ]
  },
  {
   "cell_type": "code",
   "execution_count": 13,
   "metadata": {},
   "outputs": [
    {
     "name": "stdout",
     "output_type": "stream",
     "text": [
      "Volume contains 188243164 supervoxels and 22.5 Teravoxels in total\n"
     ]
    }
   ],
   "source": [
    "sizes_file = '/groups/flyem/data/scratchspace/copyseg-configs/labelmaps/hemibrain/8nm/compute-8nm-extended-fixed-STATS-ONLY-20180402.192015/supervoxel-sizes.h5'\n",
    "with h5py.File(sizes_file, 'r') as f:\n",
    "    sv_sizes = pd.Series(index=f['sv_ids'][:], data=f['sv_sizes'][:])\n",
    "sv_sizes.name = 'voxel_count'\n",
    "sv_sizes.index.name = 'sv'\n",
    "print(f\"Volume contains {len(sv_sizes)} supervoxels and {sv_sizes.values.sum()/1e12:.1f} Teravoxels in total\")"
   ]
  },
  {
   "cell_type": "markdown",
   "metadata": {},
   "source": [
    "### Load Old Mapping"
   ]
  },
  {
   "cell_type": "code",
   "execution_count": 14,
   "metadata": {},
   "outputs": [],
   "source": [
    "# We start with the EXACT mapping that FlyEM has been using, even though it includes \"phantom\" supervoxels.\n",
    "old_mapping_csv = '../final-agglo/LABEL-TO-BODY-final_20180312_32nm_16nm_all_cbs32_upto10_cb16_upto10_freeze_all.csv'\n",
    "old_mapping_df = pd.read_csv(old_mapping_csv, header=None, names=['sv', 'body'], dtype=np.uint64)\n",
    "old_mapper = LabelMapper(old_mapping_df['sv'].values, old_mapping_df['body'].values)\n",
    "\n",
    "# This analysis can't use a 'minimal' mapping;\n",
    "# identity-mapped rows are not implicit, except for bodies with only one supervoxel.\n",
    "old_mapping_min_svs = old_mapping_df.groupby('body').min()\n",
    "assert (old_mapping_min_svs['sv'] == old_mapping_min_svs.index).all()"
   ]
  },
  {
   "cell_type": "markdown",
   "metadata": {},
   "source": [
    "### Old body sizes"
   ]
  },
  {
   "cell_type": "code",
   "execution_count": 15,
   "metadata": {},
   "outputs": [],
   "source": [
    "# Calculate sizes of all agglomerated bodies\n",
    "old_mapping_with_sizes = old_mapping_df.merge(pd.DataFrame(sv_sizes), left_on=['sv'], right_index=True, copy=False)\n",
    "old_body_sizes = old_mapping_with_sizes.groupby('body').agg({'voxel_count': [np.sum, 'size']})\n",
    "old_body_sizes.columns = ['voxel_count', 'sv_count']\n",
    "\n",
    "# Store SVs in a pd.Index to get hash table performance in the query below.\n",
    "old_agglomerated_svs = pd.Index(old_mapping_df['sv'])\n",
    "\n",
    "# Append sizes of unagglomerated supervoxels\n",
    "old_unagglomerated_sizes = pd.DataFrame(sv_sizes, columns=['voxel_count']).query('index not in @old_agglomerated_svs')\n",
    "old_unagglomerated_sizes['sv_count'] = 1\n",
    "old_body_sizes = pd.concat((old_body_sizes, old_unagglomerated_sizes))\n",
    "\n",
    "old_body_sizes['voxel_count'] = old_body_sizes['voxel_count'].astype(np.uint64)\n",
    "old_body_sizes['sv_count'] = old_body_sizes['sv_count'].astype(np.uint32)\n",
    "\n",
    "# Save RAM\n",
    "del old_agglomerated_svs\n",
    "del old_unagglomerated_sizes"
   ]
  },
  {
   "cell_type": "code",
   "execution_count": 16,
   "metadata": {},
   "outputs": [],
   "source": [
    "## We remove phantoms from the 'sv' column, but NOT the body column,\n",
    "## since our production volume actually includes phantoms in the body IDs.\n",
    "#phantoms = set(pd.read_csv('phantoms.csv', header=None, dtype=np.uint64, names=['sv'])['sv'])\n",
    "#old_mapping_NO_PHANTOMS_df = old_mapping_df.query('sv not in @phantoms')\n",
    "##old_mapping_NO_PHANTOMS_df.query('body in @phantoms')"
   ]
  },
  {
   "cell_type": "code",
   "execution_count": 17,
   "metadata": {},
   "outputs": [],
   "source": [
    "#new_edges = np.array((new_merge_table['id_a'], new_merge_table['id_b'])).transpose()\n",
    "#new_mapping_plain = mapping_from_edges(new_edges)\n",
    "#new_mapping_plain_df = pd.DataFrame(new_mapping_plain, columns=['sv', 'body'])\n",
    "#new_mapping_plain_df.to_csv('MAPPING-final_20180312_32nm_16nm_all_cbs32_upto10_cb16_upto10_freeze_all_upd0408_v2.csv', header=False, index=False)"
   ]
  },
  {
   "cell_type": "markdown",
   "metadata": {},
   "source": [
    "### Load New Mapping"
   ]
  },
  {
   "cell_type": "code",
   "execution_count": 18,
   "metadata": {},
   "outputs": [],
   "source": [
    "new_mapping_csv = 'MAPPING-final_20180312_32nm_16nm_all_cbs32_upto10_cb16_upto10_freeze_all_upd0408_v2.csv'\n",
    "\n",
    "# Here, \"POSTPROCESSED\" means renames were applied and then remaining 'phantoms' were dropped\n",
    "#new_mapping_csv = 'MAPPING-final_20180312_32nm_16nm_all_cbs32_upto10_cb16_upto10_freeze_all_upd0408_v2-POSTPROCESSED.csv'\n",
    "\n",
    "new_mapping_df = pd.read_csv(new_mapping_csv, header=None, names=['sv', 'body'], dtype=np.uint64)\n",
    "new_mapper = LabelMapper(new_mapping_df['sv'].values, new_mapping_df['body'].values)\n",
    "\n",
    "# This analysis can't use a 'minimal' mapping;\n",
    "# identity-mapped rows are not implicit, except for bodies with only one supervoxel.\n",
    "new_mapping_min_svs = new_mapping_df.groupby('body').min()\n",
    "assert (new_mapping_min_svs['sv'] == new_mapping_min_svs.index).all()"
   ]
  },
  {
   "cell_type": "markdown",
   "metadata": {},
   "source": [
    "### New body sizes"
   ]
  },
  {
   "cell_type": "code",
   "execution_count": 19,
   "metadata": {},
   "outputs": [],
   "source": [
    "new_mapping_with_sizes = new_mapping_df.merge(pd.DataFrame(sv_sizes), left_on=['sv'], right_index=True, copy=False)\n",
    "new_body_sizes = new_mapping_with_sizes.groupby('body').agg({'voxel_count': [np.sum, 'size']})\n",
    "new_body_sizes.columns = ['voxel_count', 'sv_count']\n",
    "\n",
    "# Store SVs in a pd.Index to get hash table performance in the query below.\n",
    "new_agglomerated_svs = pd.Index(new_mapping_df['sv'])\n",
    "\n",
    "# Append sizes of unagglomerated supervoxels\n",
    "new_unagglomerated_sizes = pd.DataFrame(sv_sizes, columns=['voxel_count']).query('index not in @new_agglomerated_svs')\n",
    "new_unagglomerated_sizes['sv_count'] = np.uint32(1)\n",
    "new_body_sizes = pd.concat((new_body_sizes, new_unagglomerated_sizes))\n",
    "\n",
    "new_body_sizes['voxel_count'] = new_body_sizes['voxel_count'].astype(np.uint64)\n",
    "new_body_sizes['sv_count'] = new_body_sizes['sv_count'].astype(np.uint32)\n",
    "\n",
    "# Save RAM\n",
    "del new_agglomerated_svs\n",
    "del new_unagglomerated_sizes"
   ]
  },
  {
   "cell_type": "markdown",
   "metadata": {},
   "source": [
    "### Simple Mapping Comparison: bodies that were dropped/added/changed"
   ]
  },
  {
   "cell_type": "code",
   "execution_count": 20,
   "metadata": {},
   "outputs": [],
   "source": [
    "comparison_sets = compare_mappings(old_mapping_df.values, new_mapping_df.values)\n",
    "dropped_bodies, added_bodies, changed_size_bodies, changed_content_bodies = comparison_sets"
   ]
  },
  {
   "cell_type": "code",
   "execution_count": 22,
   "metadata": {},
   "outputs": [
    {
     "data": {
      "text/html": [
       "<div>\n",
       "<style>\n",
       "    .dataframe thead tr:only-child th {\n",
       "        text-align: right;\n",
       "    }\n",
       "\n",
       "    .dataframe thead th {\n",
       "        text-align: left;\n",
       "    }\n",
       "\n",
       "    .dataframe tbody tr th {\n",
       "        vertical-align: top;\n",
       "    }\n",
       "</style>\n",
       "<table border=\"1\" class=\"dataframe\">\n",
       "  <thead>\n",
       "    <tr style=\"text-align: right;\">\n",
       "      <th></th>\n",
       "      <th>num bodies</th>\n",
       "    </tr>\n",
       "  </thead>\n",
       "  <tbody>\n",
       "    <tr>\n",
       "      <th>dropped</th>\n",
       "      <td>34962</td>\n",
       "    </tr>\n",
       "    <tr>\n",
       "      <th>added</th>\n",
       "      <td>4059</td>\n",
       "    </tr>\n",
       "    <tr>\n",
       "      <th>changed_size</th>\n",
       "      <td>43093</td>\n",
       "    </tr>\n",
       "    <tr>\n",
       "      <th>changed_content</th>\n",
       "      <td>54</td>\n",
       "    </tr>\n",
       "  </tbody>\n",
       "</table>\n",
       "</div>"
      ],
      "text/plain": [
       "                 num bodies\n",
       "dropped               34962\n",
       "added                  4059\n",
       "changed_size          43093\n",
       "changed_content          54"
      ]
     },
     "execution_count": 22,
     "metadata": {},
     "output_type": "execute_result"
    }
   ],
   "source": [
    "counts_df = pd.DataFrame({'num bodies': list(map(len, comparison_sets))}, index=['dropped', 'added', 'changed_size', 'changed_content'])\n",
    "counts_df"
   ]
  },
  {
   "cell_type": "markdown",
   "metadata": {},
   "source": [
    "# Merge Graph Comparisons: Splits/Merges/Both"
   ]
  },
  {
   "cell_type": "markdown",
   "metadata": {},
   "source": [
    "## Detect Splits"
   ]
  },
  {
   "cell_type": "code",
   "execution_count": 23,
   "metadata": {},
   "outputs": [
    {
     "name": "stdout",
     "output_type": "stream",
     "text": [
      "Detected 1951 split edges\n",
      "Detected 1397 split pairs\n",
      "Detected 2273 bodies in the new volume that are the result of splits\n"
     ]
    }
   ],
   "source": [
    "old_merge_table_csv = '../final-agglo/final_20180312_32nm_16nm_all_cbs32_upto10_cb16_upto10_freeze_all.npy'\n",
    "#old_merge_table_csv = '../final-agglo/final_20180312_32nm_16nm_all_cbs32_upto10_cb16_upto10_freeze_all-PHANTOMS-DROPPED.npy'\n",
    "\n",
    "old_merge_table = np.load(old_merge_table_csv)\n",
    "old_edges_df = pd.DataFrame({'id_a': old_merge_table['id_a'],\n",
    "                             'id_b': old_merge_table['id_b']})\n",
    "\n",
    "old_edges_df['old_body_a'] = old_mapper.apply(old_edges_df['id_a'].values, allow_unmapped=True)\n",
    "old_edges_df['old_body_b'] = old_mapper.apply(old_edges_df['id_b'].values, allow_unmapped=True)\n",
    "old_edges_df['new_body_a'] = new_mapper.apply(old_edges_df['id_a'].values, allow_unmapped=True)\n",
    "old_edges_df['new_body_b'] = new_mapper.apply(old_edges_df['id_b'].values, allow_unmapped=True)\n",
    "\n",
    "new_splits = old_edges_df.query('new_body_a != new_body_b')\n",
    "\n",
    "assert (new_splits['old_body_a'] == new_splits['old_body_b']).all()\n",
    "print(f\"Detected {len(new_splits)} split edges\")\n",
    "\n",
    "split_body_pairs = new_splits[['new_body_a', 'new_body_b']].values\n",
    "unique_splits = pd.DataFrame(np.sort(split_body_pairs, axis=1)).drop_duplicates()\n",
    "print(f\"Detected {len(unique_splits)} split pairs\")\n",
    "\n",
    "split_body_ids = pd.unique(new_splits[['new_body_a', 'new_body_b']].values.reshape(-1))\n",
    "print(f\"Detected {len(split_body_ids)} bodies in the new volume that are the result of splits\")"
   ]
  },
  {
   "cell_type": "markdown",
   "metadata": {},
   "source": [
    "## Detect Merges"
   ]
  },
  {
   "cell_type": "code",
   "execution_count": 24,
   "metadata": {},
   "outputs": [
    {
     "name": "stdout",
     "output_type": "stream",
     "text": [
      "Detected 377868 new merge edges\n",
      "Detected 289407 new body mergers\n",
      "Detected 46920 new bodies with SV additions (mergers)\n"
     ]
    }
   ],
   "source": [
    "new_merge_table_csv = 'final_20180312_32nm_16nm_all_cbs32_upto10_cb16_upto10_freeze_all_upd0408_v2.npy'\n",
    "#new_merge_table_csv = 'final_20180312_32nm_16nm_all_cbs32_upto10_cb16_upto10_freeze_all_upd0408_v2-POSTPROCESSED.npy'\n",
    "\n",
    "new_merge_table = np.load(new_merge_table_csv)\n",
    "\n",
    "new_edges_df = pd.DataFrame({'id_a': new_merge_table['id_a'],\n",
    "                             'id_b': new_merge_table['id_b']})\n",
    "new_edges_df['old_body_a'] = old_mapper.apply(new_edges_df['id_a'].values, allow_unmapped=True)\n",
    "new_edges_df['old_body_b'] = old_mapper.apply(new_edges_df['id_b'].values, allow_unmapped=True)\n",
    "new_edges_df['new_body_a'] = new_mapper.apply(new_edges_df['id_a'].values, allow_unmapped=True)\n",
    "new_edges_df['new_body_b'] = new_mapper.apply(new_edges_df['id_b'].values, allow_unmapped=True)\n",
    "\n",
    "new_merges = new_edges_df.query('old_body_a != old_body_b')\n",
    "assert (new_merges['new_body_a'] == new_merges['new_body_b']).all()\n",
    "print(f\"Detected {len(new_merges)} new merge edges\")\n",
    "\n",
    "merged_body_pairs = new_merges[['old_body_a', 'old_body_b']].values\n",
    "unique_merges = pd.DataFrame(np.sort(merged_body_pairs, axis=1)).drop_duplicates()\n",
    "print(f\"Detected {len(unique_merges)} new body mergers\")\n",
    "\n",
    "merged_body_ids = pd.unique(new_merges['new_body_a'].values)\n",
    "print(f\"Detected {len(merged_body_ids)} new bodies with SV additions (mergers)\")"
   ]
  },
  {
   "cell_type": "markdown",
   "metadata": {},
   "source": [
    "## Break down"
   ]
  },
  {
   "cell_type": "code",
   "execution_count": 25,
   "metadata": {},
   "outputs": [],
   "source": [
    "# These sets are from the NEW agglo\n",
    "split_only_bodies = set(split_body_ids) - set(merged_body_ids)\n",
    "merged_only_bodies = set(merged_body_ids) - set(split_body_ids)\n",
    "merged_and_split_bodies = set(split_body_ids).intersection(merged_body_ids)\n",
    "merged_or_split_bodies = set(split_body_ids).union(merged_body_ids)"
   ]
  },
  {
   "cell_type": "code",
   "execution_count": 26,
   "metadata": {},
   "outputs": [
    {
     "data": {
      "text/html": [
       "<div>\n",
       "<style>\n",
       "    .dataframe thead tr:only-child th {\n",
       "        text-align: right;\n",
       "    }\n",
       "\n",
       "    .dataframe thead th {\n",
       "        text-align: left;\n",
       "    }\n",
       "\n",
       "    .dataframe tbody tr th {\n",
       "        vertical-align: top;\n",
       "    }\n",
       "</style>\n",
       "<table border=\"1\" class=\"dataframe\">\n",
       "  <thead>\n",
       "    <tr style=\"text-align: right;\">\n",
       "      <th></th>\n",
       "      <th>num bodies</th>\n",
       "    </tr>\n",
       "  </thead>\n",
       "  <tbody>\n",
       "    <tr>\n",
       "      <th>split only</th>\n",
       "      <td>287</td>\n",
       "    </tr>\n",
       "    <tr>\n",
       "      <th>merge only</th>\n",
       "      <td>44934</td>\n",
       "    </tr>\n",
       "    <tr>\n",
       "      <th>both</th>\n",
       "      <td>1986</td>\n",
       "    </tr>\n",
       "    <tr>\n",
       "      <th>either</th>\n",
       "      <td>47207</td>\n",
       "    </tr>\n",
       "  </tbody>\n",
       "</table>\n",
       "</div>"
      ],
      "text/plain": [
       "            num bodies\n",
       "split only         287\n",
       "merge only       44934\n",
       "both              1986\n",
       "either           47207"
      ]
     },
     "execution_count": 26,
     "metadata": {},
     "output_type": "execute_result"
    }
   ],
   "source": [
    "change_counts = {'split only': len(split_only_bodies),\n",
    "                 'merge only': len(merged_only_bodies),\n",
    "                 'both': len(merged_and_split_bodies),\n",
    "                 'either': len(merged_or_split_bodies)}\n",
    "set_changes_df = pd.DataFrame({'num bodies': list(change_counts.values())}, index=list(change_counts.keys()))\n",
    "set_changes_df"
   ]
  },
  {
   "cell_type": "code",
   "execution_count": 27,
   "metadata": {},
   "outputs": [
    {
     "data": {
      "text/plain": [
       "num bodies    47206\n",
       "dtype: int64"
      ]
     },
     "execution_count": 27,
     "metadata": {},
     "output_type": "execute_result"
    }
   ],
   "source": [
    "counts_df.loc['added'] + counts_df.loc['changed_size'] + counts_df.loc['changed_content']"
   ]
  },
  {
   "cell_type": "markdown",
   "metadata": {},
   "source": [
    "## Impact Analysis"
   ]
  },
  {
   "cell_type": "markdown",
   "metadata": {},
   "source": [
    "### Merge-only changes"
   ]
  },
  {
   "cell_type": "code",
   "execution_count": 29,
   "metadata": {},
   "outputs": [
    {
     "data": {
      "application/vnd.jupyter.widget-view+json": {
       "model_id": "85464bd7e37547f39c2a16387d6fd18b",
       "version_major": 2,
       "version_minor": 0
      },
      "text/html": [
       "<p>Failed to display Jupyter Widget of type <code>HBox</code>.</p>\n",
       "<p>\n",
       "  If you're reading this message in the Jupyter Notebook or JupyterLab Notebook, it may mean\n",
       "  that the widgets JavaScript is still loading. If this message persists, it\n",
       "  likely means that the widgets JavaScript library is either not installed or\n",
       "  not enabled. See the <a href=\"https://ipywidgets.readthedocs.io/en/stable/user_install.html\">Jupyter\n",
       "  Widgets Documentation</a> for setup instructions.\n",
       "</p>\n",
       "<p>\n",
       "  If you're reading this message in another frontend (for example, a static\n",
       "  rendering on GitHub or <a href=\"https://nbviewer.jupyter.org/\">NBViewer</a>),\n",
       "  it may mean that your frontend doesn't currently support widgets.\n",
       "</p>\n"
      ],
      "text/plain": [
       "HBox(children=(IntProgress(value=0, max=44934), HTML(value='')))"
      ]
     },
     "metadata": {},
     "output_type": "display_data"
    }
   ],
   "source": [
    "merged_only_stats = pd.DataFrame(index=sorted(merged_only_bodies))\n",
    "merged_only_stats.index.name = 'new_body'\n",
    "merged_only_stats['original_body'] = np.uint32(0)\n",
    "merged_only_stats['supervoxels_added'] = np.uint32(0)\n",
    "merged_only_stats['voxels_added'] = np.uint64(0)\n",
    "\n",
    "for new_body_id in tqdm_notebook(merged_only_stats.index):\n",
    "    this_body_voxels = new_body_sizes.loc[new_body_id]['voxel_count']\n",
    "    this_body_svcount = new_body_sizes.loc[new_body_id]['sv_count']\n",
    "    \n",
    "    # Find the rows in the new merge table that involve this body\n",
    "    this_body_merges = new_merges.query('new_body_a == @new_body_id')\n",
    "\n",
    "    # Which old bodies were merged into this new body?\n",
    "    component_old_bodies = pd.unique(this_body_merges[['old_body_a', 'old_body_b']].values.reshape(-1))\n",
    "    \n",
    "    # Which of those old bodies was the biggest?\n",
    "    original_body = old_body_sizes.loc[component_old_bodies]['sv_count'].argmax()\n",
    "    original_body_voxels = old_body_sizes.loc[original_body]['voxel_count']\n",
    "    original_body_svcount = old_body_sizes.loc[original_body]['sv_count']\n",
    "    \n",
    "    merged_only_stats.loc[new_body_id, 'original_body'] = original_body\n",
    "    merged_only_stats.loc[new_body_id, 'voxels_added'] = this_body_voxels - original_body_voxels\n",
    "    merged_only_stats.loc[new_body_id, 'supervoxels_added'] = this_body_svcount - original_body_svcount"
   ]
  },
  {
   "cell_type": "code",
   "execution_count": 50,
   "metadata": {},
   "outputs": [
    {
     "data": {
      "text/html": [
       "<div>\n",
       "<style>\n",
       "    .dataframe thead tr:only-child th {\n",
       "        text-align: right;\n",
       "    }\n",
       "\n",
       "    .dataframe thead th {\n",
       "        text-align: left;\n",
       "    }\n",
       "\n",
       "    .dataframe tbody tr th {\n",
       "        vertical-align: top;\n",
       "    }\n",
       "</style>\n",
       "<table border=\"1\" class=\"dataframe\">\n",
       "  <thead>\n",
       "    <tr style=\"text-align: right;\">\n",
       "      <th></th>\n",
       "      <th>original_body</th>\n",
       "      <th>supervoxels_added</th>\n",
       "      <th>voxels_added</th>\n",
       "    </tr>\n",
       "    <tr>\n",
       "      <th>new_body</th>\n",
       "      <th></th>\n",
       "      <th></th>\n",
       "      <th></th>\n",
       "    </tr>\n",
       "  </thead>\n",
       "  <tbody>\n",
       "    <tr>\n",
       "      <th>635062078</th>\n",
       "      <td>1730647233</td>\n",
       "      <td>1567.0</td>\n",
       "      <td>3.625472e+09</td>\n",
       "    </tr>\n",
       "    <tr>\n",
       "      <th>1901802926</th>\n",
       "      <td>2122471230</td>\n",
       "      <td>848.0</td>\n",
       "      <td>2.029277e+09</td>\n",
       "    </tr>\n",
       "    <tr>\n",
       "      <th>733450505</th>\n",
       "      <td>1008663678</td>\n",
       "      <td>567.0</td>\n",
       "      <td>1.583965e+09</td>\n",
       "    </tr>\n",
       "    <tr>\n",
       "      <th>734214073</th>\n",
       "      <td>823913632</td>\n",
       "      <td>1047.0</td>\n",
       "      <td>1.306696e+09</td>\n",
       "    </tr>\n",
       "    <tr>\n",
       "      <th>235657437</th>\n",
       "      <td>235657437</td>\n",
       "      <td>912.0</td>\n",
       "      <td>1.078942e+09</td>\n",
       "    </tr>\n",
       "    <tr>\n",
       "      <th>1436201428</th>\n",
       "      <td>1478461516</td>\n",
       "      <td>332.0</td>\n",
       "      <td>9.878824e+08</td>\n",
       "    </tr>\n",
       "    <tr>\n",
       "      <th>2128566765</th>\n",
       "      <td>2128566765</td>\n",
       "      <td>435.0</td>\n",
       "      <td>8.503072e+08</td>\n",
       "    </tr>\n",
       "    <tr>\n",
       "      <th>264438149</th>\n",
       "      <td>264438149</td>\n",
       "      <td>507.0</td>\n",
       "      <td>8.130002e+08</td>\n",
       "    </tr>\n",
       "    <tr>\n",
       "      <th>1344543578</th>\n",
       "      <td>2306309799</td>\n",
       "      <td>240.0</td>\n",
       "      <td>7.971084e+08</td>\n",
       "    </tr>\n",
       "    <tr>\n",
       "      <th>2159265347</th>\n",
       "      <td>2506493675</td>\n",
       "      <td>1189.0</td>\n",
       "      <td>7.843730e+08</td>\n",
       "    </tr>\n",
       "  </tbody>\n",
       "</table>\n",
       "</div>"
      ],
      "text/plain": [
       "            original_body  supervoxels_added  voxels_added\n",
       "new_body                                                  \n",
       "635062078      1730647233             1567.0  3.625472e+09\n",
       "1901802926     2122471230              848.0  2.029277e+09\n",
       "733450505      1008663678              567.0  1.583965e+09\n",
       "734214073       823913632             1047.0  1.306696e+09\n",
       "235657437       235657437              912.0  1.078942e+09\n",
       "1436201428     1478461516              332.0  9.878824e+08\n",
       "2128566765     2128566765              435.0  8.503072e+08\n",
       "264438149       264438149              507.0  8.130002e+08\n",
       "1344543578     2306309799              240.0  7.971084e+08\n",
       "2159265347     2506493675             1189.0  7.843730e+08"
      ]
     },
     "execution_count": 50,
     "metadata": {},
     "output_type": "execute_result"
    }
   ],
   "source": [
    "merged_only_stats.sort_values(['voxels_added', 'supervoxels_added'], ascending=False, inplace=True)\n",
    "merged_only_stats[:10]"
   ]
  },
  {
   "cell_type": "code",
   "execution_count": 59,
   "metadata": {},
   "outputs": [
    {
     "data": {
      "text/plain": [
       "44934"
      ]
     },
     "execution_count": 59,
     "metadata": {},
     "output_type": "execute_result"
    }
   ],
   "source": [
    "len(merged_only_stats)"
   ]
  },
  {
   "cell_type": "code",
   "execution_count": 58,
   "metadata": {},
   "outputs": [
    {
     "data": {
      "text/plain": [
       "<matplotlib.axes._subplots.AxesSubplot at 0x2afcd7ea5828>"
      ]
     },
     "execution_count": 58,
     "metadata": {},
     "output_type": "execute_result"
    },
    {
     "data": {
      "image/png": "[encoded data removed]",
      "text/plain": [
       "<matplotlib.figure.Figure at 0x2afd91a97f60>"
      ]
     },
     "metadata": {},
     "output_type": "display_data"
    }
   ],
   "source": [
    "p = merged_only_stats['voxels_added'].hist(bins=100)\n",
    "#p.set_yscale('log')\n",
    "#p.set_xscale('log')\n",
    "p"
   ]
  },
  {
   "cell_type": "markdown",
   "metadata": {},
   "source": [
    "### Links"
   ]
  },
  {
   "cell_type": "code",
   "execution_count": 67,
   "metadata": {},
   "outputs": [
    {
     "ename": "TypeError",
     "evalue": "int() argument must be a string, a bytes-like object or a number, not 'Index'",
     "output_type": "error",
     "traceback": [
      "\u001b[0;31m---------------------------------------------------------------------------\u001b[0m",
      "\u001b[0;31mTypeError\u001b[0m                                 Traceback (most recent call last)",
      "\u001b[0;32m<ipython-input-67-8e84f46ae9b2>\u001b[0m in \u001b[0;36m<module>\u001b[0;34m()\u001b[0m\n\u001b[1;32m      1\u001b[0m \u001b[0mselected_old_bodies\u001b[0m \u001b[0;34m=\u001b[0m \u001b[0mlist\u001b[0m\u001b[0;34m(\u001b[0m\u001b[0mmap\u001b[0m\u001b[0;34m(\u001b[0m\u001b[0mint\u001b[0m\u001b[0;34m,\u001b[0m \u001b[0;34m[\u001b[0m\u001b[0mmerged_only_stats\u001b[0m\u001b[0;34m.\u001b[0m\u001b[0miloc\u001b[0m\u001b[0;34m[\u001b[0m\u001b[0;36m0\u001b[0m\u001b[0;34m]\u001b[0m\u001b[0;34m[\u001b[0m\u001b[0;34m'original_body'\u001b[0m\u001b[0;34m]\u001b[0m\u001b[0;34m]\u001b[0m\u001b[0;34m)\u001b[0m\u001b[0;34m)\u001b[0m\u001b[0;34m\u001b[0m\u001b[0m\n\u001b[0;32m----> 2\u001b[0;31m \u001b[0mselected_new_bodies\u001b[0m \u001b[0;34m=\u001b[0m \u001b[0mlist\u001b[0m\u001b[0;34m(\u001b[0m\u001b[0mmap\u001b[0m\u001b[0;34m(\u001b[0m\u001b[0mint\u001b[0m\u001b[0;34m,\u001b[0m \u001b[0;34m[\u001b[0m\u001b[0mmerged_only_stats\u001b[0m\u001b[0;34m.\u001b[0m\u001b[0miloc\u001b[0m\u001b[0;34m[\u001b[0m\u001b[0;36m0\u001b[0m\u001b[0;34m]\u001b[0m\u001b[0;34m.\u001b[0m\u001b[0mindex\u001b[0m\u001b[0;34m]\u001b[0m\u001b[0;34m)\u001b[0m\u001b[0;34m)\u001b[0m\u001b[0;34m\u001b[0m\u001b[0m\n\u001b[0m\u001b[1;32m      3\u001b[0m \u001b[0;34m\u001b[0m\u001b[0m\n\u001b[1;32m      4\u001b[0m link = \"\"\"https://neuroglancer-demo.appspot.com/#!\n\u001b[1;32m      5\u001b[0m {\n",
      "\u001b[0;31mTypeError\u001b[0m: int() argument must be a string, a bytes-like object or a number, not 'Index'"
     ]
    }
   ],
   "source": [
    "selected_old_bodies = list(map(int, [merged_only_stats.iloc[0]['original_body']]))\n",
    "selected_new_bodies = list(map(int, [merged_only_stats.iloc[0].index]))\n",
    "\n",
    "link = \"\"\"https://neuroglancer-demo.appspot.com/#!\n",
    "{\n",
    "    \"layers\": {\n",
    "        \"raw_clahe_yz\": {\n",
    "            \"source\": \"brainmaps://274750196357:hemibrain:raw_clahe_yz\",\n",
    "            \"type\": \"image\"\n",
    "        },\n",
    "        \"base20180227_8nm_watershed_fixed\": {\n",
    "            \"source\": \"brainmaps://274750196357:hemibrain:base20180227_8nm_watershed_fixed\",\n",
    "            \"type\": \"segmentation\",\n",
    "            \"visible\": false\n",
    "        },\n",
    "        \"ffn_agglo_20180312_32_16_8_freeze10\": {\n",
    "            \"source\": \"brainmaps://274750196357:hemibrain:base20180227_8nm_watershed_fixed:ffn_agglo_20180312_32_16_8_freeze10\",\n",
    "            \"type\": \"segmentation\",\n",
    "            \"visible\": false,\n",
    "            \"segments\": OLD_BODIES\n",
    "        },\n",
    "        \"ffn_agglo_20180312_32_16_8_freeze10_upd0408_fixsplit\": {\n",
    "            \"source\": \"brainmaps://274750196357:hemibrain:base20180227_8nm_watershed_fixed:ffn_agglo_20180312_32_16_8_freeze10_upd0408_fixsplit\",\n",
    "            \"type\": \"segmentation\",\n",
    "            \"segments\": NEW_BODIES\n",
    "        }\n",
    "    },\n",
    "    \"navigation\": {\n",
    "        \"pose\": {\n",
    "            \"position\": {\n",
    "                \"voxelSize\": [\n",
    "                    8,\n",
    "                    8,\n",
    "                    8\n",
    "                ],\n",
    "                \"voxelCoordinates\": [\n",
    "                    7893.0771484375,\n",
    "                    23479.380859375,\n",
    "                    12839.341796875\n",
    "                ]\n",
    "            }\n",
    "        },\n",
    "        \"zoomFactor\": 13.90973176638051\n",
    "    },\n",
    "    \"perspectiveOrientation\": [\n",
    "        0.2490045130252838,\n",
    "        0.5367637276649475,\n",
    "        -0.5498400330543518,\n",
    "        0.5895399451255798\n",
    "    ],\n",
    "    \"perspectiveZoom\": 59.44193775124134,\n",
    "    \"showSlices\": false,\n",
    "    \"selectedLayer\": {\n",
    "        \"layer\": \"ffn_agglo_20180312_32_16_8_freeze10\"\n",
    "    }\n",
    "}\"\"\".replace('OLD_BODIES', str(selected_old_bodies)).replace('NEW_BODIES', str(selected_new_bodies))"
   ]
  },
  {
   "cell_type": "code",
   "execution_count": 63,
   "metadata": {},
   "outputs": [
    {
     "name": "stdout",
     "output_type": "stream",
     "text": [
      "https://neuroglancer-demo.appspot.com/#!\n",
      "{\n",
      "    \"layers\": {\n",
      "        \"raw_clahe_yz\": {\n",
      "            \"source\": \"brainmaps://274750196357:hemibrain:raw_clahe_yz\",\n",
      "            \"type\": \"image\"\n",
      "        },\n",
      "        \"base20180227_8nm_watershed_fixed\": {\n",
      "            \"source\": \"brainmaps://274750196357:hemibrain:base20180227_8nm_watershed_fixed\",\n",
      "            \"type\": \"segmentation\",\n",
      "            \"visible\": false\n",
      "        },\n",
      "        \"ffn_agglo_20180312_32_16_8_freeze10\": {\n",
      "            \"source\": \"brainmaps://274750196357:hemibrain:base20180227_8nm_watershed_fixed:ffn_agglo_20180312_32_16_8_freeze10\",\n",
      "            \"type\": \"segmentation\",\n",
      "            \"segments\": []\n",
      "        },\n",
      "        \"ffn_agglo_20180312_32_16_8_freeze10_upd0408_fixsplit\": {\n",
      "            \"source\": \"brainmaps://274750196357:hemibrain:base20180227_8nm_watershed_fixed:ffn_agglo_20180312_32_16_8_freeze10_upd0408_fixsplit\",\n",
      "            \"type\": \"segmentation\",\n",
      "            \"segments\": []\n",
      "        }\n",
      "    },\n",
      "    \"navigation\": {\n",
      "        \"pose\": {\n",
      "            \"position\": {\n",
      "                \"voxelSize\": [\n",
      "                    8,\n",
      "                    8,\n",
      "                    8\n",
      "                ],\n",
      "                \"voxelCoordinates\": [\n",
      "                    7893.0771484375,\n",
      "                    23479.380859375,\n",
      "                    12839.341796875\n",
      "                ]\n",
      "            }\n",
      "        },\n",
      "        \"zoomFactor\": 13.90973176638051\n",
      "    },\n",
      "    \"perspectiveOrientation\": [\n",
      "        0.2490045130252838,\n",
      "        0.5367637276649475,\n",
      "        -0.5498400330543518,\n",
      "        0.5895399451255798\n",
      "    ],\n",
      "    \"perspectiveZoom\": 59.44193775124134,\n",
      "    \"showSlices\": false,\n",
      "    \"selectedLayer\": {\n",
      "        \"layer\": \"ffn_agglo_20180312_32_16_8_freeze10\"\n",
      "    }\n",
      "}\n"
     ]
    }
   ],
   "source": [
    "print(link)"
   ]
  },
  {
   "cell_type": "code",
   "execution_count": 66,
   "metadata": {},
   "outputs": [
    {
     "data": {
      "text/plain": [
       "[1730647233.0]"
      ]
     },
     "execution_count": 66,
     "metadata": {},
     "output_type": "execute_result"
    }
   ],
   "source": [
    "selected_old_bodies"
   ]
  },
  {
   "cell_type": "code",
   "execution_count": null,
   "metadata": {},
   "outputs": [],
   "source": []
  }
 ],
 "metadata": {
  "kernelspec": {
   "display_name": "Python 3",
   "language": "python",
   "name": "python3"
  },
  "language_info": {
   "codemirror_mode": {
    "name": "ipython",
    "version": 3
   },
   "file_extension": ".py",
   "mimetype": "text/x-python",
   "name": "python",
   "nbconvert_exporter": "python",
   "pygments_lexer": "ipython3",
   "version": "3.6.2"
  }
 },
 "nbformat": 4,
 "nbformat_minor": 2
}
